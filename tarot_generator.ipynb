{
 "metadata": {
  "language_info": {
   "codemirror_mode": {
    "name": "ipython",
    "version": 3
   },
   "file_extension": ".py",
   "mimetype": "text/x-python",
   "name": "python",
   "nbconvert_exporter": "python",
   "pygments_lexer": "ipython3",
   "version": "3.9.2-final"
  },
  "orig_nbformat": 2,
  "kernelspec": {
   "name": "python3",
   "display_name": "Python 3.9.2 64-bit",
   "metadata": {
    "interpreter": {
     "hash": "aee8b7b246df8f9039afb4144a1f6fd8d2ca17a180786b69acc140d282b71a49"
    }
   }
  }
 },
 "nbformat": 4,
 "nbformat_minor": 2,
 "cells": [
  {
   "cell_type": "code",
   "execution_count": 2,
   "metadata": {},
   "outputs": [],
   "source": [
    "#Major Arcana cards\n",
    "\n",
    "major = ['The Fool', 'The Magician', 'The High Priestess', 'The Empress', 'The Emperor', 'The Hierophant', 'The Lovers', 'The Chariot', 'Justice', 'The Hermit', 'Wheel of Furtune', 'Strength', 'The Hanged Man', 'Death', 'Temperance', 'The Devil', 'The Tower', 'The Star', 'The Moon', 'The Sun', 'Judgement', 'The World']\n",
    "\n",
    "# print(len(major))\n"
   ]
  },
  {
   "cell_type": "code",
   "execution_count": 3,
   "metadata": {},
   "outputs": [],
   "source": [
    "#Minor Arcana Cards\n",
    "\n",
    "minor = []\n",
    "court = ['King', 'Queen', 'Knight', 'Jack']\n",
    "numbers = ['Ace', 'Two', 'Three', 'Four', 'Five', 'Six', 'Seven', 'Eight', 'Nine', 'Ten']\n",
    "# print(number)\n",
    "court_numbers = court + numbers\n",
    "# print(court_number)\n",
    "cards = ['Wands', 'Cups', 'Swords', 'Pentacles']\n",
    "for court_number in court_numbers:\n",
    "    for card in cards:\n",
    "        minor_card = court_number  + ' of ' + card\n",
    "        minor.append(minor_card)\n",
    "\n",
    "# print(minor)  \n",
    "# print(len(minor))\n"
   ]
  },
  {
   "cell_type": "code",
   "execution_count": 4,
   "metadata": {},
   "outputs": [],
   "source": [
    "#Integrate the whole card deck\n",
    "\n",
    "card_deck = major + minor\n",
    "\n",
    "# print(len(card_deck))"
   ]
  },
  {
   "source": [
    "#User input\n",
    "\n",
    "number_of_cards = int(input('How many cards do you want to draw?'))\n",
    "\n",
    "#Time for playing!\n",
    "import random\n",
    "\n",
    "results = random.sample(card_deck, number_of_cards)\n",
    "\n",
    "# print(results)\n",
    "\n",
    "\n",
    "result_with_reversion = []\n",
    "import numpy as np\n",
    "\n",
    "for result in results:\n",
    "    #Consider Reversal \n",
    "    reversed = False\n",
    "    flip = int(np.round(random.random()))\n",
    "\n",
    "    if flip == 1:\n",
    "        reversed = True\n",
    "    else: \n",
    "        reversed = False\n",
    "\n",
    "    print(reversed)\n",
    "\n",
    "    if reversed:\n",
    "        new_result = result + ', reversed'\n",
    "    else:\n",
    "        new_result = result\n",
    "    result_with_reversion.append(new_result)\n",
    "\n",
    "print(result_with_reversion)\n",
    "\n"
   ],
   "cell_type": "code",
   "metadata": {},
   "execution_count": 5,
   "outputs": [
    {
     "output_type": "stream",
     "name": "stdout",
     "text": [
      "False\nTrue\nFalse\nFalse\n['Jack of Swords', 'The Moon, reversed', 'Eight of Pentacles', 'The Hanged Man']\n"
     ]
    }
   ]
  }
 ]
}